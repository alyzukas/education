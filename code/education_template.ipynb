{
 "cells": [
  {
   "cell_type": "markdown",
   "id": "8f35a975-e3a3-4b22-aca6-3455d100d92b",
   "metadata": {},
   "source": [
    "# Education Project "
   ]
  },
  {
   "cell_type": "markdown",
   "id": "a357f31e-d888-4b69-86f9-c028d9424f76",
   "metadata": {},
   "source": [
    "In class lessons and modules."
   ]
  },
  {
   "cell_type": "markdown",
   "id": "55cd6429-e739-474e-8af0-146d780a9fb6",
   "metadata": {},
   "source": [
    "## Domain Problem "
   ]
  },
  {
   "cell_type": "markdown",
   "id": "184ac301-78fc-452c-a49d-511afd65fc97",
   "metadata": {},
   "source": [
    "**Objective:** This project addresses inequality of educational opportunity in U.S. high schools. Here we will focus on analyzing the relationship between the `average student performance on the ACT or SAT exams` that students take as part of the college application process, and `socioeconomic factors` (specifics yet to be determined). <br>\n",
    "\n",
    "**Problem Statement:** We expect a range of school performance on these exams, but is school performance associated with socioeconomic factors? <br>\n",
    "\n",
    "This is a broad question that we will make more precise as we consider how we want to answer the question and what data are available. Additionally, each of us will personalize the question by adding a data set to the data I will provide to us by Dr Fischer. <br>"
   ]
  },
  {
   "cell_type": "markdown",
   "id": "2b859aaa-6933-477a-a12a-dbe8e1be49c1",
   "metadata": {},
   "source": [
    "## Analytic Approach "
   ]
  },
  {
   "attachments": {},
   "cell_type": "markdown",
   "id": "6b0c5a69-2b70-4282-96c6-5dd78ac9bac9",
   "metadata": {},
   "source": [
    "**Diagnostic Approach**: We will use statistical analyses to test hypotheses and make inferences about relationships in the data.\n",
    "\n",
    "^^ Make sure to not refer to the technical names in the final report. "
   ]
  },
  {
   "cell_type": "markdown",
   "id": "640979f4-7211-4556-ab5f-3e9661a7b496",
   "metadata": {},
   "source": [
    "## Data Collection\n",
    "\n",
    "This project utilizes three data sets:\n",
    "- <span style=\"color: red;\">EdGap_data.xlsx</span>\n",
    "- <span style=\"color: red;\">ccd_sch_029_1617_w_1a_11212017.csv</span>\n",
    "- \n",
    "\n",
    "\n",
    "The 1st primary data set is the EdGap_data.xlsx data set from **EdGap.org** inlcuding the School ID in respect to the values for the 4 socioeconomic variables we are accounting for. \n",
    "\n",
    "This 2nd is a data set from the **National Center for Education Statistics**, displaying information about average ACT or SAT scores for schools and several socioeconomic characteristics of the school district in the year of 2016-2017.\n",
    "\n",
    "The 3rd data set is also from **National Center for Education Statistics**, displaying the schools geocodes and geoassignments. This can include the `locale/urbanicity codes` which will be used to determing the schools geographic setting (city, subarb, town, rural)."
   ]
  },
  {
   "cell_type": "markdown",
   "id": "40636a6f-557e-4db1-9438-6e37b2513dd1",
   "metadata": {},
   "source": [
    "### EdGap Data"
   ]
  },
  {
   "cell_type": "markdown",
   "id": "54e4fa9c-7531-4edf-b3dd-e46d7e45e9c6",
   "metadata": {},
   "source": [
    "All socioeconomic data (household income, unemployment, adult educational attainment, and family structure) are from the **Census Bureau’s American Community Survey**.\n",
    "\n",
    "- **EdGap.org** report that ACT and SAT score data is from each state’s department of education or some other public data release. The nature of the other public data release is not known, although the quality of the census data and the department of education data can be assumed to be reasonably high.\n",
    "\n",
    "- **EdGap.org** do not indicate that they processed the data in any way. <br> \n",
    "The data were assembled by the EdGap.org team, so there is always the possibility for human error. Given the public nature of the data, we would be able to consult the original data sources to check the quality of the data if we had any questions."
   ]
  },
  {
   "cell_type": "markdown",
   "id": "2eb6ea96-1be1-46d9-82f9-109aef8b33cd",
   "metadata": {},
   "source": [
    "### School Information Data"
   ]
  },
  {
   "cell_type": "markdown",
   "id": "f5b31649-c500-4cb2-889a-38a33f6cb2e0",
   "metadata": {},
   "source": [
    "The school information data from the **National Center for Education Statistics (NCES)** consists of basic identifying information about schools and can be assumed to be of **reasonably high quality**. \n",
    "\n",
    "As for the data from **EdGap.org data**, the school information data is public, so we would be able to consult the original data sources to check the quality of the data if we had any questions."
   ]
  },
  {
   "cell_type": "markdown",
   "id": "baf7c9bb-767f-47f4-8c58-be82bb3ad7ba",
   "metadata": {},
   "source": [
    "#### Partial Data Dictionary "
   ]
  },
  {
   "cell_type": "markdown",
   "id": "2175a430-32b8-45d9-9595-eceef5a20248",
   "metadata": {},
   "source": [
    "SCHOOL_YEAR: Academic year \n",
    "\n",
    "STATENAME: State name \n",
    "\n",
    "SCH_NAME: School name\n",
    "\n",
    "NCESSCH: National Center for Education Statistics school identification number \n",
    "\n",
    "LSTATE: State name abbreviation\n",
    "\n",
    "LZIP: Zip code\n",
    "\n",
    "SCH_TYPE_TEXT: Type of school\n",
    "\n",
    "LEVEL: Level of school (high school, middle school, elementary school)\n",
    "\n",
    "CHARTER_TEXT: Whether the school is a charter school or not (Yes, No)"
   ]
  },
  {
   "cell_type": "markdown",
   "id": "9eaf92d9-0a9c-47ca-94bd-d174103c9c8b",
   "metadata": {},
   "source": [
    "### DATA DICTIONARY"
   ]
  },
  {
   "cell_type": "markdown",
   "id": "a5a604f9-7b8e-4bcf-9f5f-50987a46fca1",
   "metadata": {},
   "source": [
    "**School Info**\n",
    "- NCES SCH School ID: National Center for Education Statistics school identification number \n",
    "- NCES EDGE School Urbanicity: National Center for Education Statistics school urbanicity codes.\n",
    "\n",
    "**Socioeconomic Factors**\n",
    "- CT Unemployment Rate: Census tract unemployment rate\n",
    "- CT Pct Adults with College Degree: Census tract percentage of adults with a college degree\n",
    "<br>\n",
    "- CT Pct Children In Married Couple Family: Census tract percentage of children in a married couple family.\n",
    "- CT Median Household Income: Census tract median household income in dollars\n",
    "- School Pct Free and Reduced Lunch: Percentage of students at the school eligible for free or reduced price lunch.\n",
    "<br>\n",
    "\n",
    "**ACT and SAT Exam Scores**\n",
    "- School ACT average (or equivalent if SAT score): Average ACT score for the school. If the average SAT score is reported by the school, it is converted to an equivalent ACT scoreLinks to an external site.. Scores range from 1 to 36, with 36 being the highest score.\n",
    "<br>\n",
    "<br>\n",
    "Note that the attendance area for a school may contain multiple census tracts."
   ]
  },
  {
   "cell_type": "code",
   "execution_count": null,
   "id": "d9376d36-17cf-4f87-a560-3c9f728132d4",
   "metadata": {},
   "outputs": [],
   "source": []
  },
  {
   "cell_type": "code",
   "execution_count": null,
   "id": "66840b4f-5243-4e7e-bf63-c70dcec48d97",
   "metadata": {},
   "outputs": [],
   "source": []
  },
  {
   "cell_type": "code",
   "execution_count": null,
   "id": "70c888c7-1d32-4e77-a3c7-bd36bf502aa8",
   "metadata": {},
   "outputs": [],
   "source": []
  },
  {
   "cell_type": "code",
   "execution_count": null,
   "id": "d6e0fe17-d357-4cc3-a1ca-cbf0fdc21aff",
   "metadata": {},
   "outputs": [],
   "source": []
  },
  {
   "cell_type": "code",
   "execution_count": null,
   "id": "0ef59bc6-8202-44b5-9950-8dde3b8135bf",
   "metadata": {},
   "outputs": [],
   "source": []
  },
  {
   "cell_type": "code",
   "execution_count": null,
   "id": "ad37d875-5918-43ed-9952-527c6309d1d7",
   "metadata": {},
   "outputs": [],
   "source": []
  },
  {
   "cell_type": "code",
   "execution_count": null,
   "id": "81aed92f-7192-49f4-a453-dc078324b326",
   "metadata": {},
   "outputs": [],
   "source": []
  },
  {
   "cell_type": "code",
   "execution_count": null,
   "id": "bd0f7d33-c86c-4752-ab3a-811961f8a91b",
   "metadata": {},
   "outputs": [],
   "source": []
  },
  {
   "cell_type": "code",
   "execution_count": null,
   "id": "ac564dba-cae8-46f7-91a3-4f21b2ce0c50",
   "metadata": {},
   "outputs": [],
   "source": []
  },
  {
   "cell_type": "code",
   "execution_count": null,
   "id": "4867e920-9238-43d7-970a-62f8fb30369c",
   "metadata": {},
   "outputs": [],
   "source": []
  },
  {
   "cell_type": "code",
   "execution_count": null,
   "id": "2b4f535f-238f-4dcf-834a-240b051f6083",
   "metadata": {},
   "outputs": [],
   "source": []
  },
  {
   "cell_type": "code",
   "execution_count": null,
   "id": "3a66c0e0-6bc1-4bde-8712-4e1a4cbfd548",
   "metadata": {},
   "outputs": [],
   "source": []
  },
  {
   "cell_type": "code",
   "execution_count": null,
   "id": "5e6af69b-d335-42e0-8c8d-951f9d6e67d6",
   "metadata": {},
   "outputs": [],
   "source": []
  },
  {
   "cell_type": "code",
   "execution_count": null,
   "id": "40298f13-2251-40c0-9221-d76a9d53bb29",
   "metadata": {},
   "outputs": [],
   "source": []
  },
  {
   "cell_type": "code",
   "execution_count": null,
   "id": "045e9b0f-c86e-4e26-959f-b82fc0307d97",
   "metadata": {},
   "outputs": [],
   "source": []
  },
  {
   "cell_type": "code",
   "execution_count": null,
   "id": "64f8eb91-4cea-4261-8f1d-d66b3c057f91",
   "metadata": {},
   "outputs": [],
   "source": []
  },
  {
   "cell_type": "code",
   "execution_count": null,
   "id": "b01bd53f-6ee0-4f5c-94cd-c8d59d42de6c",
   "metadata": {},
   "outputs": [],
   "source": []
  },
  {
   "cell_type": "code",
   "execution_count": null,
   "id": "85460f83-7a42-4fb6-8f22-fddb36dd9ad8",
   "metadata": {},
   "outputs": [],
   "source": []
  },
  {
   "cell_type": "code",
   "execution_count": null,
   "id": "14f28758-8aac-454e-9c64-d919c43cfceb",
   "metadata": {},
   "outputs": [],
   "source": []
  },
  {
   "cell_type": "code",
   "execution_count": null,
   "id": "d41f0a13-a220-4957-ba36-bbf4ba36f419",
   "metadata": {},
   "outputs": [],
   "source": []
  },
  {
   "cell_type": "code",
   "execution_count": null,
   "id": "683a769b-44e2-484f-81f2-25a0b0b73dd5",
   "metadata": {},
   "outputs": [],
   "source": []
  },
  {
   "cell_type": "code",
   "execution_count": null,
   "id": "7d268d0f-1112-4dfd-bd92-9e272ff0ccf8",
   "metadata": {},
   "outputs": [],
   "source": []
  },
  {
   "cell_type": "code",
   "execution_count": null,
   "id": "ca5c4751-f6f7-47a4-8a6d-a079a7875feb",
   "metadata": {},
   "outputs": [],
   "source": []
  },
  {
   "cell_type": "code",
   "execution_count": null,
   "id": "4d9b387e-ab88-4f44-be46-28e95119cfc6",
   "metadata": {},
   "outputs": [],
   "source": []
  },
  {
   "cell_type": "code",
   "execution_count": null,
   "id": "72934e81-f3a1-4698-b37a-f8a9fc05a8fb",
   "metadata": {},
   "outputs": [],
   "source": []
  },
  {
   "cell_type": "code",
   "execution_count": null,
   "id": "713cdf55-fc3a-430c-b073-295426d0e474",
   "metadata": {},
   "outputs": [],
   "source": []
  }
 ],
 "metadata": {
  "kernelspec": {
   "display_name": "Python [conda env:base] *",
   "language": "python",
   "name": "conda-base-py"
  },
  "language_info": {
   "codemirror_mode": {
    "name": "ipython",
    "version": 3
   },
   "file_extension": ".py",
   "mimetype": "text/x-python",
   "name": "python",
   "nbconvert_exporter": "python",
   "pygments_lexer": "ipython3",
   "version": "3.13.5"
  }
 },
 "nbformat": 4,
 "nbformat_minor": 5
}
